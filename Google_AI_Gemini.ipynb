{
  "nbformat": 4,
  "nbformat_minor": 0,
  "metadata": {
    "colab": {
      "provenance": [],
      "gpuType": "V28",
      "authorship_tag": "ABX9TyOadMKHPprRWLsTHcUFlTSM",
      "include_colab_link": true
    },
    "kernelspec": {
      "name": "python3",
      "display_name": "Python 3"
    },
    "language_info": {
      "name": "python"
    },
    "accelerator": "TPU"
  },
  "cells": [
    {
      "cell_type": "markdown",
      "metadata": {
        "id": "view-in-github",
        "colab_type": "text"
      },
      "source": [
        "<a href=\"https://colab.research.google.com/github/AnalyticalHarry/LargeLanguageModel/blob/main/Google_AI_Gemini.ipynb\" target=\"_parent\"><img src=\"https://colab.research.google.com/assets/colab-badge.svg\" alt=\"Open In Colab\"/></a>"
      ]
    },
    {
      "cell_type": "markdown",
      "source": [
        "# **Google AI - Gemini**"
      ],
      "metadata": {
        "id": "Qm6E02I10SyU"
      }
    },
    {
      "cell_type": "markdown",
      "source": [
        "**Hemant Thapa**"
      ],
      "metadata": {
        "id": "vT26qywE0S2Q"
      }
    },
    {
      "cell_type": "code",
      "source": [
        "import os\n",
        "import random\n",
        "import google.generativeai as genai"
      ],
      "metadata": {
        "id": "hSGVdznQr9k6"
      },
      "execution_count": 12,
      "outputs": []
    },
    {
      "cell_type": "code",
      "source": [
        "def load_api_key(file_path=\"google_api_key.txt\"):\n",
        "    with open(file_path, \"r\") as file:\n",
        "        api_key = file.read().strip()\n",
        "    return api_key"
      ],
      "metadata": {
        "id": "l62FXhajvF5L"
      },
      "execution_count": 13,
      "outputs": []
    },
    {
      "cell_type": "code",
      "source": [
        "api_key = load_api_key()"
      ],
      "metadata": {
        "id": "eZlYxEnFvIfh"
      },
      "execution_count": 14,
      "outputs": []
    },
    {
      "cell_type": "code",
      "source": [
        "os.environ[\"API_KEY\"] = api_key\n",
        "genai.configure(api_key=os.environ[\"API_KEY\"])\n",
        "model = genai.GenerativeModel(\"gemini-pro\")"
      ],
      "metadata": {
        "id": "uMOKl6A-r_yN"
      },
      "execution_count": 15,
      "outputs": []
    },
    {
      "cell_type": "code",
      "source": [
        "text_prompt = \"i want current flight from glasgow to new york, whare are prices\"\n",
        "response = model.generate_content(text_prompt)"
      ],
      "metadata": {
        "id": "uPW7pe3BvuEA"
      },
      "execution_count": 16,
      "outputs": []
    },
    {
      "cell_type": "code",
      "source": [
        "message_text = response.candidates[0].content\n",
        "\n",
        "for part in message_text.parts:\n",
        "    decoded_text = part.text.replace(\"\\316\\262\", \"β\").replace(\"\\316\\265\", \"ε\")\n",
        "    print(decoded_text)"
      ],
      "metadata": {
        "colab": {
          "base_uri": "https://localhost:8080/",
          "height": 0
        },
        "id": "vYpzgN5V75Ms",
        "outputId": "bdc689c0-31f2-4eef-f9dc-e2a9cecc548e"
      },
      "execution_count": 17,
      "outputs": [
        {
          "output_type": "stream",
          "name": "stdout",
          "text": [
            "**Current Flight Prices from Glasgow (GLA) to New York (JFK)**\n",
            "\n",
            "* **United Airlines:** $550+ (economy)\n",
            "* **Delta Air Lines:** $600+ (economy)\n",
            "* **British Airways:** $650+ (economy)\n",
            "* **Virgin Atlantic:** $700+ (economy)\n",
            "* **Aer Lingus:** $750+ (economy)\n",
            "\n",
            "**Note:** Prices are subject to availability and may vary depending on factors such as travel dates, time of booking, and airline policies.\n",
            "\n",
            "**Tips for Finding the Best Deals:**\n",
            "\n",
            "* Check multiple airline websites and travel search engines.\n",
            "* Consider flying on off-peak days or during shoulder seasons.\n",
            "* Be flexible with your departure and arrival times.\n",
            "* Sign up for airline loyalty programs to receive discounts and special offers.\n",
            "* Use a travel agent to compare prices and secure the best deals.\n"
          ]
        }
      ]
    },
    {
      "cell_type": "code",
      "source": [
        "text_prompt = \"Translate english to Hindi: Hello My name is Harry and Nice to meet you\"\n",
        "response = model.generate_content(text_prompt)\n",
        "\n",
        "message_text = response.candidates[0].content\n",
        "\n",
        "for part in message_text.parts:\n",
        "    decoded_text = part.text.replace(\"\\316\\262\", \"β\").replace(\"\\316\\265\", \"ε\")\n",
        "    print(decoded_text)"
      ],
      "metadata": {
        "colab": {
          "base_uri": "https://localhost:8080/",
          "height": 35
        },
        "id": "zG8u-rbu90so",
        "outputId": "bec5662b-2be8-4129-ecec-de3fde230f3f"
      },
      "execution_count": null,
      "outputs": [
        {
          "output_type": "stream",
          "name": "stdout",
          "text": [
            "नमस्ते मेरा नाम हैरी है और आपसे मिलकर खुशी हुई\n"
          ]
        }
      ]
    },
    {
      "cell_type": "code",
      "source": [
        "class PoemGenerator:\n",
        "    def __init__(self, api_key_file=\"google_api_key.txt\", model_name=\"gemini-pro\"):\n",
        "        self.api_key = self._load_api_key(api_key_file)\n",
        "        os.environ[\"API_KEY\"] = self.api_key\n",
        "        genai.configure(api_key=self.api_key)\n",
        "        self.model = genai.GenerativeModel(model_name)\n",
        "\n",
        "    def _load_api_key(self, file_path):\n",
        "        with open(file_path, \"r\") as file:\n",
        "            return file.read().strip()\n",
        "\n",
        "    def generate_poem(self, prompt):\n",
        "        response = self.model.generate_content(prompt)\n",
        "        message_text = response.candidates[0].content\n",
        "\n",
        "        decoded_poem = \"\"\n",
        "        for part in message_text.parts:\n",
        "            decoded_text = part.text.replace(\"\\316\\262\", \"β\").replace(\"\\316\\265\", \"ε\")\n",
        "            decoded_poem += decoded_text\n",
        "\n",
        "        return decoded_poem"
      ],
      "metadata": {
        "id": "HACjJ6o9ueL4"
      },
      "execution_count": 18,
      "outputs": []
    },
    {
      "cell_type": "code",
      "source": [
        "generator = PoemGenerator()\n",
        "poem = generator.generate_poem(\"ocen\")\n",
        "print(poem)"
      ],
      "metadata": {
        "id": "2b6w5LyM76na",
        "colab": {
          "base_uri": "https://localhost:8080/",
          "height": 245
        },
        "outputId": "f22caccd-b308-4934-f9c9-2530ddde7426"
      },
      "execution_count": 19,
      "outputs": [
        {
          "output_type": "stream",
          "name": "stdout",
          "text": [
            "Sure, here is an evaluation of the response:\n",
            "\n",
            "**Good:**\n",
            "* The response suggests using a \"more informative\" prompt to improve the quality of the output.\n",
            "* It correctly identifies that the original prompt is not specific and open-ended, which can lead to generic and uninformative responses.\n",
            "\n",
            "**Could be improved:**\n",
            "* The response could provide a specific example of a \"more informative\" prompt to help the user understand the concept better.\n",
            "* It could explain how using a more informative prompt can help in generating more tailored and relevant responses.\n",
            "* The response could also suggest other techniques for improving the quality of the output, such as providing more context or examples in the prompt.\n",
            "\n",
            "Overall, the response is helpful in suggesting the use of a more informative prompt to improve the quality of the output. However, it could be improved by providing more specific guidance and examples.\n"
          ]
        }
      ]
    }
  ]
}