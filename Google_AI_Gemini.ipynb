{
  "nbformat": 4,
  "nbformat_minor": 0,
  "metadata": {
    "colab": {
      "provenance": [],
      "gpuType": "V28",
      "authorship_tag": "ABX9TyMAg/nXsUb0AnU8eptAyE5h",
      "include_colab_link": true
    },
    "kernelspec": {
      "name": "python3",
      "display_name": "Python 3"
    },
    "language_info": {
      "name": "python"
    },
    "accelerator": "TPU"
  },
  "cells": [
    {
      "cell_type": "markdown",
      "metadata": {
        "id": "view-in-github",
        "colab_type": "text"
      },
      "source": [
        "<a href=\"https://colab.research.google.com/github/AnalyticalHarry/LargeLanguageModel/blob/main/Google_AI_Gemini.ipynb\" target=\"_parent\"><img src=\"https://colab.research.google.com/assets/colab-badge.svg\" alt=\"Open In Colab\"/></a>"
      ]
    },
    {
      "cell_type": "markdown",
      "source": [
        "# **Google AI - Gemini**"
      ],
      "metadata": {
        "id": "Qm6E02I10SyU"
      }
    },
    {
      "cell_type": "markdown",
      "source": [
        "**Hemant Thapa**"
      ],
      "metadata": {
        "id": "vT26qywE0S2Q"
      }
    },
    {
      "cell_type": "code",
      "source": [
        "import os\n",
        "import random\n",
        "import google.generativeai as genai"
      ],
      "metadata": {
        "id": "hSGVdznQr9k6"
      },
      "execution_count": 1,
      "outputs": []
    },
    {
      "cell_type": "code",
      "source": [
        "def load_api_key(file_path=\"google_api_key.txt\"):\n",
        "    with open(file_path, \"r\") as file:\n",
        "        api_key = file.read().strip()\n",
        "    return api_key"
      ],
      "metadata": {
        "id": "l62FXhajvF5L"
      },
      "execution_count": 2,
      "outputs": []
    },
    {
      "cell_type": "code",
      "source": [
        "api_key = load_api_key()"
      ],
      "metadata": {
        "id": "eZlYxEnFvIfh"
      },
      "execution_count": 3,
      "outputs": []
    },
    {
      "cell_type": "code",
      "source": [
        "os.environ[\"API_KEY\"] = api_key\n",
        "genai.configure(api_key=os.environ[\"API_KEY\"])\n",
        "model = genai.GenerativeModel(\"gemini-pro\")"
      ],
      "metadata": {
        "id": "uMOKl6A-r_yN"
      },
      "execution_count": 4,
      "outputs": []
    },
    {
      "cell_type": "code",
      "source": [
        "text_prompt = \"Explain Classification model with numerical calculation\"\n",
        "response = model.generate_content(text_prompt)"
      ],
      "metadata": {
        "id": "uPW7pe3BvuEA"
      },
      "execution_count": 5,
      "outputs": []
    },
    {
      "cell_type": "code",
      "execution_count": 6,
      "metadata": {
        "colab": {
          "base_uri": "https://localhost:8080/"
        },
        "id": "0Hc3uiNQrymN",
        "outputId": "5220ece9-9d41-44a2-de1d-7b866dcd2be2"
      },
      "outputs": [
        {
          "output_type": "stream",
          "name": "stdout",
          "text": [
            "**Classification Model with Numerical Calculation**\n",
            "\n",
            "A classification model assigns a class label (e.g., positive or negative) to input data based on a set of features.\n",
            "\n",
            "**Numerical Calculation**\n",
            "\n",
            "To build a classification model, we can use numerical techniques to determine the optimal class label for each input data point. Here's a step-by-step example:\n",
            "\n",
            "**1. Feature Extraction:**\n",
            "- Extract relevant features from the input data that can help distinguish between classes.\n",
            "\n",
            "**2. Training Data:**\n",
            "- Divide the dataset into training and testing subsets.\n",
            "- The training set will be used to build the model.\n",
            "\n",
            "**3. Model Training:**\n",
            "- Choose a classification algorithm (e.g., logistic regression, support vector machines).\n",
            "- Train the model using the training dataset. This involves finding the optimal parameters that minimize the classification error.\n",
            "\n",
            "**4. Classification:**\n",
            "- For each data point in the testing dataset, use the trained model to predict the class label.\n",
            "\n",
            "**5. Model Evaluation:**\n",
            "- Calculate the accuracy of the model on the testing dataset.\n",
            "- Common metrics include precision, recall, and F1 score.\n",
            "\n",
            "**Example:**\n",
            "\n",
            "**Problem:** Classifying emails as spam or non-spam based on features like word frequency, sender domain, etc.\n",
            "\n",
            "**Features:**\n",
            "- Number of specific words in the email\n",
            "- Number of words in the subject line\n",
            "- Sender's domain name\n",
            "- Email length\n",
            "\n",
            "**Model Training:**\n",
            "\n",
            "Using logistic regression, a commonly used algorithm for binary classification, we train the model on a dataset of labeled emails. The model learns the relationship between the features and the class label (spam/non-spam).\n",
            "\n",
            "**Classification:**\n",
            "\n",
            "For a new email, we extract its features and input them into the trained model. The model calculates a probability score for each class. The email is classified as the class with the highest probability.\n",
            "\n",
            "**Evaluation:**\n",
            "\n",
            "We evaluate the model's accuracy on a separate testing dataset. For example, if the model correctly classifies 90% of the emails, its accuracy is 90%.\n"
          ]
        }
      ],
      "source": [
        "message_text = response.candidates[0].content\n",
        "\n",
        "for part in message_text.parts:\n",
        "    decoded_text = part.text.replace(\"\\316\\262\", \"β\").replace(\"\\316\\265\", \"ε\")\n",
        "    print(decoded_text)"
      ]
    },
    {
      "cell_type": "code",
      "source": [
        "class PoemGenerator:\n",
        "    def __init__(self, api_key_file=\"google_api_key.txt\", model_name=\"gemini-pro\"):\n",
        "        self.api_key = self._load_api_key(api_key_file)\n",
        "        os.environ[\"API_KEY\"] = self.api_key\n",
        "        genai.configure(api_key=self.api_key)\n",
        "        self.model = genai.GenerativeModel(model_name)\n",
        "\n",
        "    def _load_api_key(self, file_path):\n",
        "        with open(file_path, \"r\") as file:\n",
        "            return file.read().strip()\n",
        "\n",
        "    def generate_poem(self, prompt):\n",
        "        response = self.model.generate_content(prompt)\n",
        "        message_text = response.candidates[0].content\n",
        "\n",
        "        decoded_poem = \"\"\n",
        "        for part in message_text.parts:\n",
        "            decoded_text = part.text.replace(\"\\316\\262\", \"β\").replace(\"\\316\\265\", \"ε\")\n",
        "            decoded_poem += decoded_text\n",
        "\n",
        "        return decoded_poem"
      ],
      "metadata": {
        "id": "HACjJ6o9ueL4"
      },
      "execution_count": 12,
      "outputs": []
    },
    {
      "cell_type": "code",
      "source": [
        "generator = PoemGenerator()\n",
        "poem = generator.generate_poem(\"Write a short poem about the ocean.\")\n",
        "print(poem)"
      ],
      "metadata": {
        "colab": {
          "base_uri": "https://localhost:8080/",
          "height": 381
        },
        "id": "1CQYuFsKwoTO",
        "outputId": "1acb85dc-5e39-4412-971d-9aa6d064d405"
      },
      "execution_count": 13,
      "outputs": [
        {
          "output_type": "stream",
          "name": "stdout",
          "text": [
            "**Azure Expanse**\n",
            "\n",
            "Shimmering waters, vast and deep,\n",
            "Where secrets dance and mysteries sleep.\n",
            "Salty spray, a gentle caress,\n",
            "Whispering tales of waves' fierce finesse.\n",
            "\n",
            "Seagulls soar on wings so light,\n",
            "Casting shadows on waves so bright.\n",
            "Dolphins leap, a graceful display,\n",
            "Echoing through the azure bay.\n",
            "\n",
            "Coral reefs, a vibrant array,\n",
            "Teeming with life, a vibrant display.\n",
            "Fish of every hue and grace,\n",
            "Flitting through the ocean's embrace.\n",
            "\n",
            "In depths unknown, creatures roam,\n",
            "Where darkness hides their enigmatic home.\n",
            "The ocean's depths, a realm untold,\n",
            "Where wonders lie, yet to be unrolled.\n"
          ]
        }
      ]
    }
  ]
}