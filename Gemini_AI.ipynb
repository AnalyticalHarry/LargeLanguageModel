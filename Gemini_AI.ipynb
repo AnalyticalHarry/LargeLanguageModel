{
  "nbformat": 4,
  "nbformat_minor": 0,
  "metadata": {
    "colab": {
      "provenance": [],
      "authorship_tag": "ABX9TyOrEkMQYy6ulHqRqock+xcT",
      "include_colab_link": true
    },
    "kernelspec": {
      "name": "python3",
      "display_name": "Python 3"
    },
    "language_info": {
      "name": "python"
    }
  },
  "cells": [
    {
      "cell_type": "markdown",
      "metadata": {
        "id": "view-in-github",
        "colab_type": "text"
      },
      "source": [
        "<a href=\"https://colab.research.google.com/github/AnalyticalHarry/LargeLanguageModel/blob/main/Gemini_AI.ipynb\" target=\"_parent\"><img src=\"https://colab.research.google.com/assets/colab-badge.svg\" alt=\"Open In Colab\"/></a>"
      ]
    },
    {
      "cell_type": "markdown",
      "source": [
        "# **GEMINI AI (LLM)**"
      ],
      "metadata": {
        "id": "vo9XPclo125C"
      }
    },
    {
      "cell_type": "markdown",
      "source": [
        "**Hemant Thapa**"
      ],
      "metadata": {
        "id": "DB0ybj-_14IX"
      }
    },
    {
      "cell_type": "code",
      "source": [
        "import os\n",
        "import google.generativeai as genai"
      ],
      "metadata": {
        "id": "hNVAItu30r9d"
      },
      "execution_count": 1,
      "outputs": []
    },
    {
      "cell_type": "code",
      "execution_count": 11,
      "metadata": {
        "id": "zh7N505C0rD0"
      },
      "outputs": [],
      "source": [
        "class GoogleAI:\n",
        "    def __init__(self, api_key_file=\"google_api_key.txt\"):\n",
        "        self.api_key = self.load_api_key(api_key_file)\n",
        "        self.configure_api()\n",
        "        self.model = genai.GenerativeModel(\"gemini-pro\")\n",
        "\n",
        "    def load_api_key(self, file_path):\n",
        "        with open(file_path, \"r\") as file:\n",
        "            api_key = file.read().strip()\n",
        "        return api_key\n",
        "\n",
        "    def configure_api(self):\n",
        "        os.environ[\"API_KEY\"] = self.api_key\n",
        "        genai.configure(api_key=os.environ[\"API_KEY\"])\n",
        "\n",
        "    def generate_content(self, text_prompt):\n",
        "        response = self.model.generate_content(text_prompt)\n",
        "        message_text = response.candidates[0].content.parts[0].text\n",
        "        return self.decode_message(message_text)\n",
        "\n",
        "    def decode_message(self, message_text):\n",
        "        decoded_text = message_text.replace(\"\\316\\262\", \"β\").replace(\"\\316\\265\", \"ε\")\n",
        "        return decoded_text\n"
      ]
    },
    {
      "cell_type": "code",
      "source": [
        "google_ai = GoogleAI()\n",
        "text_prompt = \"Explain Classification model with numerical calculation\"\n",
        "result = google_ai.generate_content(text_prompt)"
      ],
      "metadata": {
        "id": "yfUnY-nC0ubi"
      },
      "execution_count": 12,
      "outputs": []
    },
    {
      "cell_type": "code",
      "source": [
        "print(result)"
      ],
      "metadata": {
        "colab": {
          "base_uri": "https://localhost:8080/"
        },
        "id": "4SqjsNDU1z0R",
        "outputId": "fe8b1cbb-7ad7-4bfb-ad21-36cf2cca9c9b"
      },
      "execution_count": 13,
      "outputs": [
        {
          "output_type": "stream",
          "name": "stdout",
          "text": [
            "**Classification Model**\n",
            "\n",
            "A classification model predicts the class label of a data point based on its features. It assumes that the input data can be categorized into discrete classes.\n",
            "\n",
            "**Numerical Calculation**\n",
            "\n",
            "**1. Data Preparation:**\n",
            "\n",
            "* Convert categorical features into numerical representations using one-hot encoding or dummy variables.\n",
            "\n",
            "**2. Model Training:**\n",
            "\n",
            "* **Logistic Regression:**\n",
            "    * Calculates a logit function to predict the probability of each class:\n",
            "      ```\n",
            "      P(class = k | x) = exp(β₀ + β₁x₁ + ... + βₙxₙ) / Σᵢexp(β₀ + β₁x₁ + ... + βₙxₙ)\n",
            "      ```\n",
            "    * β₀, β₁, ..., βₙ are the regression coefficients.\n",
            "\n",
            "* **Support Vector Machines (SVMs):**\n",
            "    * Maps the data to a higher-dimensional space where the classes are linearly separable.\n",
            "    * Finds the hyperplane that maximizes the margin between the classes.\n",
            "\n",
            "* **Decision Trees:**\n",
            "    * Recursively splits the data into smaller subsets based on the features.\n",
            "    * Assigns a class label to each leaf node.\n",
            "\n",
            "**3. Model Evaluation:**\n",
            "\n",
            "* **Accuracy:** Percentage of correct predictions.\n",
            "* **Precision:** Proportion of positive predictions that are true positives.\n",
            "* **Recall:** Proportion of actual positive cases that are correctly predicted.\n",
            "* **F1-score:** Harmonic mean of precision and recall.\n",
            "\n",
            "**Example: Logistic Regression**\n",
            "\n",
            "Suppose we have a dataset with the following features and class labels:\n",
            "\n",
            "| Feature 1 | Feature 2 | Class |\n",
            "|---|---|---|\n",
            "| 0.5 | 0.3 | 1 |\n",
            "| 0.7 | 0.1 | 0 |\n",
            "| 0.3 | 0.7 | 1 |\n",
            "| 0.1 | 0.9 | 0 |\n",
            "\n",
            "**Model:**\n",
            "\n",
            "```\n",
            "P(class = 1 | x) = exp(β₀ + β₁x₁ + β₂x₂) / (1 + exp(β₀ + β₁x₁ + β₂x₂))\n",
            "```\n",
            "\n",
            "**Training:**\n",
            "\n",
            "Using logistic regression, we obtain the following coefficients:\n",
            "\n",
            "* β₀ = -0.5\n",
            "* β₁ = 1.2\n",
            "* β₂ = -0.8\n",
            "\n",
            "**Prediction:**\n",
            "\n",
            "For a new data point with Feature 1 = 0.6 and Feature 2 = 0.4:\n",
            "\n",
            "```\n",
            "P(class = 1 | x) = exp(-0.5 + 1.2(0.6) - 0.8(0.4)) / (1 + exp(-0.5 + 1.2(0.6) - 0.8(0.4))) = 0.77\n",
            "```\n",
            "\n",
            "Therefore, the predicted class label is 1 (with 77% probability).\n"
          ]
        }
      ]
    }
  ]
}